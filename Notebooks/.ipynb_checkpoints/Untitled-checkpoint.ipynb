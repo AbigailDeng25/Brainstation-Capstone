{
 "cells": [
  {
   "cell_type": "markdown",
   "id": "5db9dea9-6299-4e2a-9947-56f9f3fedc38",
   "metadata": {},
   "source": [
    "## Model Deployment"
   ]
  },
  {
   "cell_type": "code",
   "execution_count": 23,
   "id": "aabf2271-f9bf-4ca4-8413-7b5e2439efc5",
   "metadata": {},
   "outputs": [],
   "source": [
    "import numpy as np\n",
    "import pandas as pd\n",
    "import joblib\n",
    "import xgboost as xgb\n",
    "from sklearn.preprocessing import OneHotEncoder\n",
    "from sklearn.compose import ColumnTransformer\n",
    "from sklearn.pipeline import Pipeline\n",
    "from sklearn.preprocessing import StandardScaler\n"
   ]
  },
  {
   "cell_type": "code",
   "execution_count": 37,
   "id": "0dfb4c7a-0e36-40ab-a9da-12462fdaabdc",
   "metadata": {},
   "outputs": [
    {
     "name": "stdout",
     "output_type": "stream",
     "text": [
      "Shape of transformed input data: (1, 19)\n"
     ]
    }
   ],
   "source": [
    "# Example new input data (ensure it matches the number of features the model expects)\n",
    "X_new = np.array([[15, 40000, 1000, 200, 150, 200, 200, 400, 200, 200, 200, 650, 20, 890,100,1000, 36, 2, 1]])\n",
    "\n",
    "# Column names (adjust with the actual feature names from your dataset)\n",
    "feature_names = ['int_rate', 'loan_amnt','installment', 'annual_inc', 'delinq_2yrs', 'fico_range_low', 'fico_range_high',\n",
    "                 'inq_last_6mths', 'open_acc', 'pub_rec', 'revol_bal', 'total_acc', 'out_prncp', \n",
    "                 'out_prncp_inv', 'last_pymnt_amnt','delinq_amnt',\n",
    "                 'term', 'grade', 'home_ownership']  # Update this list if needed\n",
    "\n",
    "# Convert X_new into a DataFrame with the correct column names\n",
    "X_new_df = pd.DataFrame(X_new, columns=feature_names)\n",
    "\n",
    "# Load the scaler used during training\n",
    "scaler = joblib.load('scaler.pkl')\n",
    "\n",
    "# Define categorical columns (adjust as necessary based on your dataset)\n",
    "categorical_cols = ['term', 'grade', 'home_ownership']  # Update with your actual categorical columns\n",
    "\n",
    "# Define the preprocessor pipeline\n",
    "preprocessor = ColumnTransformer(\n",
    "    transformers=[\n",
    "        ('num', StandardScaler(), ['int_rate', 'loan_amnt','installment', 'annual_inc', 'delinq_2yrs', \n",
    "                                   'fico_range_low', 'fico_range_high', 'inq_last_6mths', 'open_acc', \n",
    "                                   'pub_rec', 'revol_bal', 'total_acc', 'out_prncp', 'out_prncp_inv', \n",
    "                                   'last_pymnt_amnt','delinq_amnt']),\n",
    "        ('cat', OneHotEncoder(handle_unknown='ignore'), categorical_cols)\n",
    "    ])\n",
    "\n",
    "# Apply preprocessing steps\n",
    "X_new_transformed = preprocessor.fit_transform(X_new_df)\n",
    "\n",
    "# Ensure that X_new_transformed has 19 features (matching the model's input size)\n",
    "print(f'Shape of transformed input data: {X_new_transformed.shape}')\n",
    "\n"
   ]
  },
  {
   "cell_type": "code",
   "execution_count": 41,
   "id": "979444ba-8fcb-4482-bc49-97e3f8b523a9",
   "metadata": {},
   "outputs": [
    {
     "name": "stdout",
     "output_type": "stream",
     "text": [
      "Predicted result: Will not default\n"
     ]
    }
   ],
   "source": [
    "# Load the model (XGBClassifier or Booster)\n",
    "model = xgb.XGBClassifier()\n",
    "model.load_model('xgboost_model.model')\n",
    "\n",
    "# Make the prediction using the transformed input data\n",
    "prediction = model.predict(X_new_transformed)\n",
    "\n",
    "# Process the output (binary classification)\n",
    "if prediction[0] == 0:\n",
    "    print(f'Predicted result: Will not default')\n",
    "if prediction[0] == 1:\n",
    "    print(f'Predicted result: Will default')"
   ]
  },
  {
   "cell_type": "code",
   "execution_count": null,
   "id": "2032a2cf-a1f7-43b6-be08-56ce82ea926b",
   "metadata": {},
   "outputs": [],
   "source": [
    "import streamlit as st\n",
    "import xgboost as xgb\n",
    "import numpy as np\n",
    "import pandas as pd\n",
    "from sklearn.preprocessing import StandardScaler, OneHotEncoder\n",
    "from sklearn.compose import ColumnTransformer\n",
    "import joblib\n",
    "\n",
    "# Load the trained XGBoost model and the preprocessing objects\n",
    "model = xgb.XGBClassifier()\n",
    "model.load_model('xgboost_model.model')\n",
    "\n",
    "# Assuming the scaler and encoder are saved as 'scaler.pkl' and 'preprocessor.pkl'\n",
    "scaler = joblib.load('scaler.pkl')\n",
    "preprocessor = joblib.load('preprocessor.pkl')\n",
    "\n",
    "# Define the input fields for the parameters (ensure the correct order and type)\n",
    "st.title('Loan Status Prediction')\n",
    "\n",
    "st.write(\"Please enter the parameters:\")\n",
    "\n",
    "# Collect user input for all parameters (example for 18 features)\n",
    "int_rate = st.number_input('Interest Rate', min_value=0.0, max_value=100.0, step=0.01)\n",
    "loan_amnt = st.number_input('Loan Amount', min_value=0.0, step=1.0)\n",
    "installment = st.number_input('Installment', min_value=0.0, step=1.0)\n",
    "annual_inc = st.number_input('Annual Income', min_value=0.0, step=1.0)\n",
    "delinq_2yrs = st.number_input('Delinquencies in 2 Years', min_value=0, step=1)\n",
    "fico_range_low = st.number_input('FICO Range Low', min_value=300, max_value=850, step=1)\n",
    "fico_range_high = st.number_input('FICO Range High', min_value=300, max_value=850, step=1)\n",
    "inq_last_6mths = st.number_input('Inquiries in Last 6 Months', min_value=0, step=1)\n",
    "open_acc = st.number_input('Number of Open Accounts', min_value=0, step=1)\n",
    "pub_rec = st.number_input('Public Record', min_value=0, step=1)\n",
    "revol_bal = st.number_input('Revolving Balance', min_value=0.0, step=1.0)\n",
    "total_acc = st.number_input('Total Accounts', min_value=0, step=1)\n",
    "out_prncp = st.number_input('Outstanding Principal', min_value=0.0, step=1.0)\n",
    "out_prncp_inv = st.number_input('Outstanding Principal Investment', min_value=0.0, step=1.0)\n",
    "last_pymnt_amnt = st.number_input('Last Payment Amount', min_value=0.0, step=1.0)\n",
    "\n",
    "# Categorical features (example: 'term', 'grade', 'home_ownership')\n",
    "term = st.selectbox('Loan Term', ['36 months', '60 months'])\n",
    "grade = st.selectbox('Grade', ['A', 'B', 'C', 'D', 'E', 'F', 'G'])\n",
    "home_ownership = st.selectbox('Home Ownership', ['OWN', 'MORTGAGE', 'RENT'])\n",
    "\n",
    "# Create a DataFrame from the input values\n",
    "input_data = pd.DataFrame([[int_rate, loan_amnt, installment, annual_inc, delinq_2yrs, fico_range_low, fico_range_high,\n",
    "                            inq_last_6mths, open_acc, pub_rec, revol_bal, total_acc, out_prncp, out_prncp_inv,\n",
    "                            last_pymnt_amnt, term, grade, home_ownership]],\n",
    "                          columns=['int_rate', 'loan_amnt', 'installment', 'annual_inc', 'delinq_2yrs', 'fico_range_low',\n",
    "                                   'fico_range_high', 'inq_last_6mths', 'open_acc', 'pub_rec', 'revol_bal', 'total_acc',\n",
    "                                   'out_prncp', 'out_prncp_inv', 'last_pymnt_amnt', 'term', 'grade', 'home_ownership'])\n",
    "\n",
    "# Preprocess the input data using the same preprocessor\n",
    "input_data_transformed = preprocessor.transform(input_data)\n",
    "\n",
    "# Predict the class and probabilities\n",
    "prediction = model.predict(input_data_transformed)\n",
    "probabilities = model.predict_proba(input_data_transformed)\n",
    "\n",
    "# Show the results\n",
    "if st.button('Predict'):\n",
    "    st.write(f'Predicted class: {prediction[0]}')\n",
    "    st.write(f'Probability of class = 1: {probabilities[0][1]:.2f}')"
   ]
  },
  {
   "cell_type": "code",
   "execution_count": null,
   "id": "50f242d0-8ba1-4f09-acab-74459904ac1a",
   "metadata": {},
   "outputs": [],
   "source": []
  },
  {
   "cell_type": "code",
   "execution_count": null,
   "id": "73588084-c4de-401a-8b1b-c743f09a3efe",
   "metadata": {},
   "outputs": [],
   "source": []
  }
 ],
 "metadata": {
  "kernelspec": {
   "display_name": "Python 3 (ipykernel)",
   "language": "python",
   "name": "python3"
  },
  "language_info": {
   "codemirror_mode": {
    "name": "ipython",
    "version": 3
   },
   "file_extension": ".py",
   "mimetype": "text/x-python",
   "name": "python",
   "nbconvert_exporter": "python",
   "pygments_lexer": "ipython3",
   "version": "3.11.7"
  }
 },
 "nbformat": 4,
 "nbformat_minor": 5
}
